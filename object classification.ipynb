{
 "cells": [
  {
   "cell_type": "code",
   "execution_count": 2,
   "id": "171cc6f0-3f17-48c3-8def-c7de469882a2",
   "metadata": {
    "scrolled": true
   },
   "outputs": [
    {
     "name": "stdout",
     "output_type": "stream",
     "text": [
      "Requirement already satisfied: ultralytics in c:\\users\\sugav\\appdata\\local\\programs\\python\\python39\\lib\\site-packages (8.3.178)\n",
      "Requirement already satisfied: numpy>=1.23.0 in c:\\users\\sugav\\appdata\\local\\programs\\python\\python39\\lib\\site-packages (from ultralytics) (1.26.4)\n",
      "Requirement already satisfied: matplotlib>=3.3.0 in c:\\users\\sugav\\appdata\\local\\programs\\python\\python39\\lib\\site-packages (from ultralytics) (3.9.4)\n",
      "Requirement already satisfied: opencv-python>=4.6.0 in c:\\users\\sugav\\appdata\\local\\programs\\python\\python39\\lib\\site-packages (from ultralytics) (4.10.0.84)\n",
      "Requirement already satisfied: pillow>=7.1.2 in c:\\users\\sugav\\appdata\\local\\programs\\python\\python39\\lib\\site-packages (from ultralytics) (10.2.0)\n",
      "Requirement already satisfied: pyyaml>=5.3.1 in c:\\users\\sugav\\appdata\\local\\programs\\python\\python39\\lib\\site-packages (from ultralytics) (6.0.2)\n",
      "Requirement already satisfied: requests>=2.23.0 in c:\\users\\sugav\\appdata\\local\\programs\\python\\python39\\lib\\site-packages (from ultralytics) (2.32.3)\n",
      "Requirement already satisfied: scipy>=1.4.1 in c:\\users\\sugav\\appdata\\local\\programs\\python\\python39\\lib\\site-packages (from ultralytics) (1.13.1)\n",
      "Requirement already satisfied: torch>=1.8.0 in c:\\users\\sugav\\appdata\\local\\programs\\python\\python39\\lib\\site-packages (from ultralytics) (2.2.2)\n",
      "Requirement already satisfied: torchvision>=0.9.0 in c:\\users\\sugav\\appdata\\local\\programs\\python\\python39\\lib\\site-packages (from ultralytics) (0.17.2)\n",
      "Requirement already satisfied: tqdm>=4.64.0 in c:\\users\\sugav\\appdata\\local\\programs\\python\\python39\\lib\\site-packages (from ultralytics) (4.66.5)\n",
      "Requirement already satisfied: psutil in c:\\users\\sugav\\appdata\\local\\programs\\python\\python39\\lib\\site-packages (from ultralytics) (7.0.0)\n",
      "Requirement already satisfied: py-cpuinfo in c:\\users\\sugav\\appdata\\local\\programs\\python\\python39\\lib\\site-packages (from ultralytics) (9.0.0)\n",
      "Requirement already satisfied: pandas>=1.1.4 in c:\\users\\sugav\\appdata\\local\\programs\\python\\python39\\lib\\site-packages (from ultralytics) (2.2.2)\n",
      "Requirement already satisfied: ultralytics-thop>=2.0.0 in c:\\users\\sugav\\appdata\\local\\programs\\python\\python39\\lib\\site-packages (from ultralytics) (2.0.15)\n",
      "Requirement already satisfied: contourpy>=1.0.1 in c:\\users\\sugav\\appdata\\local\\programs\\python\\python39\\lib\\site-packages (from matplotlib>=3.3.0->ultralytics) (1.3.0)\n",
      "Requirement already satisfied: cycler>=0.10 in c:\\users\\sugav\\appdata\\local\\programs\\python\\python39\\lib\\site-packages (from matplotlib>=3.3.0->ultralytics) (0.12.1)\n",
      "Requirement already satisfied: fonttools>=4.22.0 in c:\\users\\sugav\\appdata\\local\\programs\\python\\python39\\lib\\site-packages (from matplotlib>=3.3.0->ultralytics) (4.55.3)\n",
      "Requirement already satisfied: kiwisolver>=1.3.1 in c:\\users\\sugav\\appdata\\local\\programs\\python\\python39\\lib\\site-packages (from matplotlib>=3.3.0->ultralytics) (1.4.7)\n",
      "Requirement already satisfied: packaging>=20.0 in c:\\users\\sugav\\appdata\\local\\programs\\python\\python39\\lib\\site-packages (from matplotlib>=3.3.0->ultralytics) (24.2)\n",
      "Requirement already satisfied: pyparsing>=2.3.1 in c:\\users\\sugav\\appdata\\local\\programs\\python\\python39\\lib\\site-packages (from matplotlib>=3.3.0->ultralytics) (3.2.0)\n",
      "Requirement already satisfied: python-dateutil>=2.7 in c:\\users\\sugav\\appdata\\local\\programs\\python\\python39\\lib\\site-packages (from matplotlib>=3.3.0->ultralytics) (2.9.0.post0)\n",
      "Requirement already satisfied: importlib-resources>=3.2.0 in c:\\users\\sugav\\appdata\\local\\programs\\python\\python39\\lib\\site-packages (from matplotlib>=3.3.0->ultralytics) (6.4.5)\n",
      "Requirement already satisfied: zipp>=3.1.0 in c:\\users\\sugav\\appdata\\local\\programs\\python\\python39\\lib\\site-packages (from importlib-resources>=3.2.0->matplotlib>=3.3.0->ultralytics) (3.21.0)\n",
      "Requirement already satisfied: pytz>=2020.1 in c:\\users\\sugav\\appdata\\local\\programs\\python\\python39\\lib\\site-packages (from pandas>=1.1.4->ultralytics) (2024.1)\n",
      "Requirement already satisfied: tzdata>=2022.7 in c:\\users\\sugav\\appdata\\local\\programs\\python\\python39\\lib\\site-packages (from pandas>=1.1.4->ultralytics) (2024.1)\n",
      "Requirement already satisfied: six>=1.5 in c:\\users\\sugav\\appdata\\local\\programs\\python\\python39\\lib\\site-packages (from python-dateutil>=2.7->matplotlib>=3.3.0->ultralytics) (1.16.0)\n",
      "Requirement already satisfied: charset-normalizer<4,>=2 in c:\\users\\sugav\\appdata\\local\\programs\\python\\python39\\lib\\site-packages (from requests>=2.23.0->ultralytics) (3.3.2)\n",
      "Requirement already satisfied: idna<4,>=2.5 in c:\\users\\sugav\\appdata\\local\\programs\\python\\python39\\lib\\site-packages (from requests>=2.23.0->ultralytics) (3.8)\n",
      "Requirement already satisfied: urllib3<3,>=1.21.1 in c:\\users\\sugav\\appdata\\local\\programs\\python\\python39\\lib\\site-packages (from requests>=2.23.0->ultralytics) (2.2.2)\n",
      "Requirement already satisfied: certifi>=2017.4.17 in c:\\users\\sugav\\appdata\\local\\programs\\python\\python39\\lib\\site-packages (from requests>=2.23.0->ultralytics) (2024.8.30)\n",
      "Requirement already satisfied: filelock in c:\\users\\sugav\\appdata\\local\\programs\\python\\python39\\lib\\site-packages (from torch>=1.8.0->ultralytics) (3.15.4)\n",
      "Requirement already satisfied: typing-extensions>=4.8.0 in c:\\users\\sugav\\appdata\\local\\programs\\python\\python39\\lib\\site-packages (from torch>=1.8.0->ultralytics) (4.12.2)\n",
      "Requirement already satisfied: sympy in c:\\users\\sugav\\appdata\\local\\programs\\python\\python39\\lib\\site-packages (from torch>=1.8.0->ultralytics) (1.13.2)\n",
      "Requirement already satisfied: networkx in c:\\users\\sugav\\appdata\\local\\programs\\python\\python39\\lib\\site-packages (from torch>=1.8.0->ultralytics) (3.2.1)\n",
      "Requirement already satisfied: jinja2 in c:\\users\\sugav\\appdata\\local\\programs\\python\\python39\\lib\\site-packages (from torch>=1.8.0->ultralytics) (3.1.4)\n",
      "Requirement already satisfied: fsspec in c:\\users\\sugav\\appdata\\local\\programs\\python\\python39\\lib\\site-packages (from torch>=1.8.0->ultralytics) (2024.6.1)\n",
      "Requirement already satisfied: colorama in c:\\users\\sugav\\appdata\\local\\programs\\python\\python39\\lib\\site-packages (from tqdm>=4.64.0->ultralytics) (0.4.6)\n",
      "Requirement already satisfied: MarkupSafe>=2.0 in c:\\users\\sugav\\appdata\\local\\programs\\python\\python39\\lib\\site-packages (from jinja2->torch>=1.8.0->ultralytics) (2.1.5)\n",
      "Requirement already satisfied: mpmath<1.4,>=1.1.0 in c:\\users\\sugav\\appdata\\local\\programs\\python\\python39\\lib\\site-packages (from sympy->torch>=1.8.0->ultralytics) (1.3.0)\n"
     ]
    },
    {
     "name": "stderr",
     "output_type": "stream",
     "text": [
      "WARNING: Ignoring invalid distribution -orch (c:\\users\\sugav\\appdata\\local\\programs\\python\\python39\\lib\\site-packages)\n",
      "WARNING: Ignoring invalid distribution -umpy (c:\\users\\sugav\\appdata\\local\\programs\\python\\python39\\lib\\site-packages)\n",
      "WARNING: Ignoring invalid distribution -orch (c:\\users\\sugav\\appdata\\local\\programs\\python\\python39\\lib\\site-packages)\n",
      "WARNING: Ignoring invalid distribution -umpy (c:\\users\\sugav\\appdata\\local\\programs\\python\\python39\\lib\\site-packages)\n",
      "WARNING: Ignoring invalid distribution -orch (c:\\users\\sugav\\appdata\\local\\programs\\python\\python39\\lib\\site-packages)\n",
      "WARNING: Ignoring invalid distribution -umpy (c:\\users\\sugav\\appdata\\local\\programs\\python\\python39\\lib\\site-packages)\n",
      "\n",
      "[notice] A new release of pip is available: 25.1.1 -> 25.2\n",
      "[notice] To update, run: python.exe -m pip install --upgrade pip\n"
     ]
    }
   ],
   "source": [
    "!pip install ultralytics"
   ]
  },
  {
   "cell_type": "code",
   "execution_count": 3,
   "id": "09359cb1-1570-4506-b823-2d30a0ed857a",
   "metadata": {},
   "outputs": [],
   "source": [
    "from ultralytics import YOLO"
   ]
  },
  {
   "cell_type": "code",
   "execution_count": null,
   "id": "9b2747a4-2a71-413f-9da7-80f9853db9de",
   "metadata": {},
   "outputs": [
    {
     "name": "stdout",
     "output_type": "stream",
     "text": [
      "\n",
      "Found https://ultralytics.com/images/bus.jpg locally at bus.jpg\n",
      "image 1/1 C:\\Users\\sugav\\bus.jpg: 640x480 4 persons, 1 bus, 1 stop sign, 452.6ms\n",
      "Speed: 20.0ms preprocess, 452.6ms inference, 29.6ms postprocess per image at shape (1, 3, 640, 480)\n"
     ]
    }
   ],
   "source": [
    "# Load a pre-trained YOLOv8 model (nano version for speed)\n",
    "model = YOLO('yolov8n.pt')\n",
    "# Run detection on an image\n",
    "results = model('https://ultralytics.com/images/bus.jpg')\n",
    "# Show the results\n",
    "results[0].show()\n",
    "# Save results to folder\n",
    "results[0].save('output/')"
   ]
  },
  {
   "cell_type": "code",
   "execution_count": null,
   "id": "13ff605a-5d26-4928-a6a2-b102bb8f0297",
   "metadata": {},
   "outputs": [],
   "source": []
  }
 ],
 "metadata": {
  "kernelspec": {
   "display_name": "Python 3 (ipykernel)",
   "language": "python",
   "name": "python3"
  },
  "language_info": {
   "codemirror_mode": {
    "name": "ipython",
    "version": 3
   },
   "file_extension": ".py",
   "mimetype": "text/x-python",
   "name": "python",
   "nbconvert_exporter": "python",
   "pygments_lexer": "ipython3",
   "version": "3.9.6"
  }
 },
 "nbformat": 4,
 "nbformat_minor": 5
}
